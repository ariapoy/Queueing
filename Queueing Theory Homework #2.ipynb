{
 "metadata": {
  "name": "",
  "signature": "sha256:4400427331cff4796c17766d319fff78f570b827b7c2e4368d30e25dc610954f"
 },
 "nbformat": 3,
 "nbformat_minor": 0,
 "worksheets": [
  {
   "cells": [
    {
     "cell_type": "markdown",
     "metadata": {},
     "source": [
      "#Queueing Theory Homework #2"
     ]
    },
    {
     "cell_type": "markdown",
     "metadata": {},
     "source": [
      "This is the programming to solve the problem of problem 4 and problem 5"
     ]
    },
    {
     "cell_type": "markdown",
     "metadata": {},
     "source": [
      "##problem 4"
     ]
    },
    {
     "cell_type": "markdown",
     "metadata": {},
     "source": [
      "###Description of problem:"
     ]
    },
    {
     "cell_type": "markdown",
     "metadata": {},
     "source": [
      "The problem is to solve M/M/c/c queue.\n",
      "\n",
      "According to formula in textbook page. 82:\n",
      "$$\n",
      "p_{c} = B(c,r) = \\frac{r^{c}/c!}{\\sum_{i} r^{i}/i!}\n",
      "$$\n",
      "\n",
      "But for c becomes larger, the error of B(c,r) could increase.\n",
      "\n",
      "The solution is also in the same page:\n",
      "$$\n",
      "B(c,r) = \\frac{rB(c-1,r)}{c+rB(c-1,r)}, c>=1\n",
      "$$\n",
      "\n",
      "At this time, I'll compare results of two formula."
     ]
    },
    {
     "cell_type": "markdown",
     "metadata": {},
     "source": [
      "###The condition given by problem:"
     ]
    },
    {
     "cell_type": "markdown",
     "metadata": {},
     "source": [
      "Given parameters:\n",
      "  - $\\lambda_1 = 40$ (calls/min);\n",
      "  - $\\lambda_2 = 35$ (calls/min);\n",
      "  - average duration $\\mu = 3$ (mins) $= 1/3$ (calls/min)\n"
     ]
    },
    {
     "cell_type": "markdown",
     "metadata": {},
     "source": [
      "###Some formulate and parameter we need:"
     ]
    },
    {
     "cell_type": "markdown",
     "metadata": {},
     "source": [
      "First, we need $r$"
     ]
    },
    {
     "cell_type": "code",
     "collapsed": false,
     "input": [
      "r = (40+35)/(1./3)\n",
      "print r"
     ],
     "language": "python",
     "metadata": {},
     "outputs": [
      {
       "output_type": "stream",
       "stream": "stdout",
       "text": [
        "225.0\n"
       ]
      }
     ],
     "prompt_number": 2
    },
    {
     "cell_type": "markdown",
     "metadata": {},
     "source": [
      "And I need some tools to calculate *factorial*."
     ]
    },
    {
     "cell_type": "code",
     "collapsed": false,
     "input": [
      "import scipy.misc"
     ],
     "language": "python",
     "metadata": {},
     "outputs": [],
     "prompt_number": 3
    },
    {
     "cell_type": "markdown",
     "metadata": {},
     "source": [
      "Now, we can formulate $p_c$ directly:"
     ]
    },
    {
     "cell_type": "code",
     "collapsed": false,
     "input": [
      "def B(c,r):\n",
      "    tmp = sum([r**i / scipy.misc.factorial(i) for i in xrange(c+1)])\n",
      "    ans = (r**c/scipy.misc.factorial(c)) / tmp\n",
      "    return ans\n",
      "print B(1,2), B(2,2), B(3,2), B(4,2)"
     ],
     "language": "python",
     "metadata": {},
     "outputs": [
      {
       "output_type": "stream",
       "stream": "stdout",
       "text": [
        "0.666666666667 0.4 0.210526315789 0.0952380952381\n"
       ]
      }
     ],
     "prompt_number": 4
    },
    {
     "cell_type": "markdown",
     "metadata": {},
     "source": [
      "Note that the other approach is computational issue:"
     ]
    },
    {
     "cell_type": "code",
     "collapsed": false,
     "input": [
      "def rec_B(c,r):\n",
      "    B = 1\n",
      "    for i in xrange(1, c+1):\n",
      "        B = r*B / float((i + r*B))\n",
      "    ans = B\n",
      "    return ans\n",
      "print rec_B(1,2), rec_B(2,2), rec_B(3,2), rec_B(4,2)"
     ],
     "language": "python",
     "metadata": {},
     "outputs": [
      {
       "output_type": "stream",
       "stream": "stdout",
       "text": [
        "0.666666666667 0.4 0.210526315789 0.0952380952381\n"
       ]
      }
     ],
     "prompt_number": 5
    },
    {
     "cell_type": "markdown",
     "metadata": {},
     "source": [
      "_Verify_: The answer in textbook example 2.7 is:"
     ]
    },
    {
     "cell_type": "code",
     "collapsed": false,
     "input": [
      "print 2/3., 2/5., 4/19., 2/21"
     ],
     "language": "python",
     "metadata": {},
     "outputs": [
      {
       "output_type": "stream",
       "stream": "stdout",
       "text": [
        "0.666666666667 0.4 0.210526315789 0\n"
       ]
      }
     ],
     "prompt_number": 6
    },
    {
     "cell_type": "markdown",
     "metadata": {},
     "source": [
      "###Procedure to solve the problem 4"
     ]
    },
    {
     "cell_type": "markdown",
     "metadata": {},
     "source": [
      "The follow function is the procedure to solve the problem, which is given $p_c$ and $r$.\n",
      "\n",
      "We need to find the $c$."
     ]
    },
    {
     "cell_type": "code",
     "collapsed": false,
     "input": [
      "def proc_Erlang_B_formula_pc_r(pc, r):\n",
      "\ttmp = 1\n",
      "\tans = []\n",
      "\tc = 0\n",
      "\twhile tmp >= pc:\n",
      "\t\tc = c+1\t\t\n",
      "\t\ttmp = rec_B(c,r)\n",
      "\t\tans.append(tmp)\n",
      "\treturn c\n",
      "print proc_Erlang_B_formula_pc_r(0.3, 2)\n",
      "# Note: it can be corresponded to example 2.7 in textbook."
     ],
     "language": "python",
     "metadata": {},
     "outputs": [
      {
       "output_type": "stream",
       "stream": "stdout",
       "text": [
        "3\n"
       ]
      }
     ],
     "prompt_number": 7
    },
    {
     "cell_type": "markdown",
     "metadata": {},
     "source": [
      "###Answer (i) (ii) (iii) (iv)"
     ]
    },
    {
     "cell_type": "code",
     "collapsed": false,
     "input": [
      "## (i) pc < 0.3 %\n",
      "print 'i', str(proc_Erlang_B_formula_pc_r(0.003, r))\n",
      "## (ii) pc < 0.5 %\n",
      "print 'ii', str(proc_Erlang_B_formula_pc_r(0.005, r))\n",
      "## (iii) pc < 2 %\n",
      "print 'iii', str(proc_Erlang_B_formula_pc_r(0.02, r))\n",
      "## (iv) pc < 5 %\n",
      "print 'iv', str(proc_Erlang_B_formula_pc_r(0.05, r))"
     ],
     "language": "python",
     "metadata": {},
     "outputs": [
      {
       "output_type": "stream",
       "stream": "stdout",
       "text": [
        "i 257\n",
        "ii 253\n",
        "iii 240\n",
        "iv "
       ]
      },
      {
       "output_type": "stream",
       "stream": "stdout",
       "text": [
        "226\n"
       ]
      }
     ],
     "prompt_number": 8
    },
    {
     "cell_type": "markdown",
     "metadata": {},
     "source": [
      "##problem 5"
     ]
    },
    {
     "cell_type": "markdown",
     "metadata": {},
     "source": [
      "###Description of problem:"
     ]
    },
    {
     "cell_type": "markdown",
     "metadata": {},
     "source": [
      "The problem is related to M/M/1/k \n",
      " 1. calculate $W$ and $W_q$ in an \n",
      " 2. Draw the curve (Obtain the results)\n",
      "\n"
     ]
    },
    {
     "cell_type": "markdown",
     "metadata": {},
     "source": [
      "###The condition given by problem:"
     ]
    },
    {
     "cell_type": "markdown",
     "metadata": {},
     "source": [
      "Given parameters:\n",
      "\n",
      "- $k = 10$\n",
      "- $\\mu = 1$ /min\n"
     ]
    },
    {
     "cell_type": "code",
     "collapsed": false,
     "input": [
      "k = 10\n",
      "mu = 1"
     ],
     "language": "python",
     "metadata": {},
     "outputs": [],
     "prompt_number": 9
    },
    {
     "cell_type": "markdown",
     "metadata": {},
     "source": [
      "###Some formulate and parameter we need:"
     ]
    },
    {
     "cell_type": "markdown",
     "metadata": {},
     "source": [
      "Let $\\rho = \\frac{\\lambda}{\\mu}$, we have\n",
      "$$\n",
      "\\bar{\\lambda} = \\lambda (1 - p_{k})\n",
      "$$\n",
      "\n",
      "$$\n",
      "p_{0} = \n",
      "\\begin{aligned}\n",
      "& \\frac{1- \\rho}{1 - \\rho^{k+1}} & \\mbox{if } \\rho \\neq 1\\\\\n",
      "& \\frac{1}{k+1} & \\mbox{if } \\rho = 1\n",
      "\\end{aligned}\n",
      "$$\n",
      "\n",
      "$$\n",
      "p_{n} = \n",
      "\\begin{aligned}\n",
      "& \\frac{1 - \\rho}{1 - \\rho^{k+1}} \\rho^{n} & \\mbox{if } \\rho \\neq 1\\\\\n",
      "& \\frac{1}{k+1} & \\mbox{if } \\rho = 1\n",
      "\\end{aligned}\n",
      "\\mbox{ for } n = 0,1,2, \\dots, K \n",
      "$$\n",
      "\n",
      "$$\n",
      "L = \n",
      "\\begin{aligned}\n",
      "& \\frac{\\rho}{1 - \\rho} - \\frac{(k+1) \\rho^{k+1}}{1 - \\rho^{k+1}} & \\mbox{if } \\rho \\neq 1\\\\\n",
      "& \\frac{k}{2} & \\mbox{if } \\rho = 1\n",
      "\\end{aligned}\n",
      "$$\n",
      "\n",
      "$$\n",
      "L_{q} = L - (1 - p_{0})\n",
      "$$\n",
      "\n",
      "$$\n",
      "W = \\frac{L}{\\bar{\\lambda}}\n",
      "$$\n",
      "\n",
      "$$\n",
      "W_{q} = \\frac{L_{q}}{\\bar{\\lambda}}\n",
      "$$\n"
     ]
    },
    {
     "cell_type": "code",
     "collapsed": false,
     "input": [
      "\n",
      "def p0(lam, mu, k):\n",
      "    rho = lam / float(mu)\n",
      "    if rho == 1:\n",
      "        ans = 1 / float(k+1)\n",
      "    else:\n",
      "        ans = (1 - rho) / (1 - rho**(k+1))\n",
      "    return ans\n",
      "def pn(lam, mu, n, k):\n",
      "    rho = lam / float(mu)\n",
      "    if rho == 1:\n",
      "        ans = 1/ float(k+1)\n",
      "    else:\n",
      "        ans = (1 - rho) / (1 - rho**(k+1)) * rho**n\n",
      "    return ans\n",
      "def L(lam, mu, k):\n",
      "    rho = lam / float(mu)\n",
      "    if rho == 1:\n",
      "        ans = k / 2.\n",
      "    else:\n",
      "        ans = float(rho) / (1 - rho) - (k + 1)* rho**(k + 1)/ (1 - rho**(k+ 1 ))\n",
      "    return ans\n",
      "def Lq(lam, mu, k):\n",
      "    L_v = L(lam, mu, k)\n",
      "    p0_v = p0(lam, mu, k)\n",
      "    ans = L_v - (1 - p0_v)\n",
      "    return ans\n",
      "def eff_lam(lam, mu, k):\n",
      "    rho = lam / float(mu)\n",
      "    pk_v = pn(lam, mu, k, k)\n",
      "    ans = lam * (1 - pk_v)\n",
      "    return ans\n",
      "def W(lam, mu, k):\n",
      "    L_v = L(lam, mu, k)\n",
      "    eff_lam_v = eff_lam(lam, mu, k)\n",
      "    if eff_lam_v != 0:\n",
      "        ans = L_v / float(eff_lam_v)\n",
      "    else:\n",
      "        ans = 1\n",
      "    return ans\n",
      "def Wq(lam, mu, k):\n",
      "    Lq_v = Lq(lam, mu, k)\n",
      "    eff_lam_v = eff_lam(lam, mu, k)\n",
      "    if eff_lam_v != 0:\n",
      "        ans = Lq_v / float(eff_lam_v)\n",
      "    else:\n",
      "        ans = 0\n",
      "    return ans\n",
      "print W(0.8, mu, k), W(1, mu, k)"
     ],
     "language": "python",
     "metadata": {},
     "outputs": [
      {
       "output_type": "stream",
       "stream": "stdout",
       "text": [
        "3.79709750398 5.5\n"
       ]
      }
     ],
     "prompt_number": 29
    },
    {
     "cell_type": "markdown",
     "metadata": {},
     "source": [
      "###Procedure to solve the problem 5"
     ]
    },
    {
     "cell_type": "markdown",
     "metadata": {},
     "source": [
      "The follow function is the procedure to solve the problem,\n",
      "\n",
      "for $\\lambda = 0, 0.2, 0.4, 0.6, 0.8, 1.0, 1.2, 1.4, 1.6, 1.8, 2.0$ /min\n",
      "\n",
      "We'll use above formulas to obtain $W$ and $W_{q}$"
     ]
    },
    {
     "cell_type": "code",
     "collapsed": false,
     "input": [
      "def proc_cal_W(LAM): # LAM is list of many lams\n",
      "    W_list = map(lambda x: W(x, mu, k), LAM)\n",
      "    Wq_list = map(lambda x: Wq(x, mu, k), LAM)\n",
      "    ans = [W_list, Wq_list]\n",
      "    return ans"
     ],
     "language": "python",
     "metadata": {},
     "outputs": [],
     "prompt_number": 30
    },
    {
     "cell_type": "markdown",
     "metadata": {},
     "source": [
      "###Answer $W$ and $W_q$ and figure"
     ]
    },
    {
     "cell_type": "markdown",
     "metadata": {},
     "source": [
      "Now, let me draw the picture of the answer.\n",
      "\n",
      "First, we need some tools."
     ]
    },
    {
     "cell_type": "code",
     "collapsed": false,
     "input": [
      "import pandas as pd"
     ],
     "language": "python",
     "metadata": {},
     "outputs": [],
     "prompt_number": 31
    },
    {
     "cell_type": "markdown",
     "metadata": {},
     "source": [
      "And the answer of list of $W$ and $W_{q}$ is here:"
     ]
    },
    {
     "cell_type": "code",
     "collapsed": false,
     "input": [
      "ans_v = proc_cal_W([0, 0.2,0.4,0.6,0.8,1.0,1.2,1.4,1.6,1.8,2.0])\n",
      "ANS = pd.DataFrame(ans_v)\n",
      "ANS = ANS.T\n",
      "ANS.columns = ['W', 'Wq']\n",
      "ANS['Lam'] = [0, 0.2,0.4,0.6,0.8,1.0,1.2,1.4,1.6,1.8,2.0]\n",
      "ANS.reindex(columns= ['Lam', 'W', 'Wq'])"
     ],
     "language": "python",
     "metadata": {},
     "outputs": [
      {
       "html": [
        "<div style=\"max-height:1000px;max-width:1500px;overflow:auto;\">\n",
        "<table border=\"1\" class=\"dataframe\">\n",
        "  <thead>\n",
        "    <tr style=\"text-align: right;\">\n",
        "      <th></th>\n",
        "      <th>Lam</th>\n",
        "      <th>W</th>\n",
        "      <th>Wq</th>\n",
        "    </tr>\n",
        "  </thead>\n",
        "  <tbody>\n",
        "    <tr>\n",
        "      <th>0 </th>\n",
        "      <td> 0.0</td>\n",
        "      <td> 1.000000</td>\n",
        "      <td> 0.000000</td>\n",
        "    </tr>\n",
        "    <tr>\n",
        "      <th>1 </th>\n",
        "      <td> 0.2</td>\n",
        "      <td> 1.249999</td>\n",
        "      <td> 0.249999</td>\n",
        "    </tr>\n",
        "    <tr>\n",
        "      <th>2 </th>\n",
        "      <td> 0.4</td>\n",
        "      <td> 1.665618</td>\n",
        "      <td> 0.665618</td>\n",
        "    </tr>\n",
        "    <tr>\n",
        "      <th>3 </th>\n",
        "      <td> 0.6</td>\n",
        "      <td> 2.439166</td>\n",
        "      <td> 1.439166</td>\n",
        "    </tr>\n",
        "    <tr>\n",
        "      <th>4 </th>\n",
        "      <td> 0.8</td>\n",
        "      <td> 3.797098</td>\n",
        "      <td> 2.797098</td>\n",
        "    </tr>\n",
        "    <tr>\n",
        "      <th>5 </th>\n",
        "      <td> 1.0</td>\n",
        "      <td> 5.500000</td>\n",
        "      <td> 4.500000</td>\n",
        "    </tr>\n",
        "    <tr>\n",
        "      <th>6 </th>\n",
        "      <td> 1.2</td>\n",
        "      <td> 6.926138</td>\n",
        "      <td> 5.926138</td>\n",
        "    </tr>\n",
        "    <tr>\n",
        "      <th>7 </th>\n",
        "      <td> 1.4</td>\n",
        "      <td> 7.858096</td>\n",
        "      <td> 6.858096</td>\n",
        "    </tr>\n",
        "    <tr>\n",
        "      <th>8 </th>\n",
        "      <td> 1.6</td>\n",
        "      <td> 8.425118</td>\n",
        "      <td> 7.425118</td>\n",
        "    </tr>\n",
        "    <tr>\n",
        "      <th>9 </th>\n",
        "      <td> 1.8</td>\n",
        "      <td> 8.778086</td>\n",
        "      <td> 7.778086</td>\n",
        "    </tr>\n",
        "    <tr>\n",
        "      <th>10</th>\n",
        "      <td> 2.0</td>\n",
        "      <td> 9.009775</td>\n",
        "      <td> 8.009775</td>\n",
        "    </tr>\n",
        "  </tbody>\n",
        "</table>\n",
        "<p>11 rows \u00d7 3 columns</p>\n",
        "</div>"
       ],
       "metadata": {},
       "output_type": "pyout",
       "prompt_number": 32,
       "text": [
        "    Lam         W        Wq\n",
        "0   0.0  1.000000  0.000000\n",
        "1   0.2  1.249999  0.249999\n",
        "2   0.4  1.665618  0.665618\n",
        "3   0.6  2.439166  1.439166\n",
        "4   0.8  3.797098  2.797098\n",
        "5   1.0  5.500000  4.500000\n",
        "6   1.2  6.926138  5.926138\n",
        "7   1.4  7.858096  6.858096\n",
        "8   1.6  8.425118  7.425118\n",
        "9   1.8  8.778086  7.778086\n",
        "10  2.0  9.009775  8.009775\n",
        "\n",
        "[11 rows x 3 columns]"
       ]
      }
     ],
     "prompt_number": 32
    },
    {
     "cell_type": "markdown",
     "metadata": {},
     "source": [
      "Show on the ipython notebook directly."
     ]
    },
    {
     "cell_type": "code",
     "collapsed": false,
     "input": [
      "%pylab inline"
     ],
     "language": "python",
     "metadata": {},
     "outputs": [
      {
       "output_type": "stream",
       "stream": "stdout",
       "text": [
        "Populating the interactive namespace from numpy and matplotlib\n"
       ]
      }
     ],
     "prompt_number": 33
    },
    {
     "cell_type": "code",
     "collapsed": false,
     "input": [
      "ANS.plot(x = ANS.Lam)"
     ],
     "language": "python",
     "metadata": {},
     "outputs": [
      {
       "metadata": {},
       "output_type": "pyout",
       "prompt_number": 34,
       "text": [
        "<matplotlib.axes.AxesSubplot at 0x1087f8610>"
       ]
      },
      {
       "metadata": {},
       "output_type": "display_data",
       "png": "[encoded data removed]",
       "text": [
        "<matplotlib.figure.Figure at 0x1087ffb10>"
       ]
      }
     ],
     "prompt_number": 34
    },
    {
     "cell_type": "code",
     "collapsed": false,
     "input": [],
     "language": "python",
     "metadata": {},
     "outputs": []
    }
   ],
   "metadata": {}
  }
 ]
}